{
 "cells": [
  {
   "cell_type": "markdown",
   "id": "9ac42468",
   "metadata": {},
   "source": [
    "# Regression Model \n",
    "\n",
    "Tien Dat Johny Do -30087967"
   ]
  },
  {
   "cell_type": "code",
   "execution_count": 24,
   "id": "bbdd59df",
   "metadata": {},
   "outputs": [],
   "source": [
    "#import classes into \n",
    "import numpy as np\n",
    "import matplotlib.pyplot as plt\n",
    "import pandas as pd\n",
    "from sklearn.model_selection import train_test_split\n",
    "from sklearn.neighbors import KNeighborsClassifier"
   ]
  },
  {
   "cell_type": "code",
   "execution_count": 25,
   "id": "6396ebf0",
   "metadata": {
    "scrolled": false
   },
   "outputs": [
    {
     "data": {
      "text/html": [
       "<div>\n",
       "<style scoped>\n",
       "    .dataframe tbody tr th:only-of-type {\n",
       "        vertical-align: middle;\n",
       "    }\n",
       "\n",
       "    .dataframe tbody tr th {\n",
       "        vertical-align: top;\n",
       "    }\n",
       "\n",
       "    .dataframe thead th {\n",
       "        text-align: right;\n",
       "    }\n",
       "</style>\n",
       "<table border=\"1\" class=\"dataframe\">\n",
       "  <thead>\n",
       "    <tr style=\"text-align: right;\">\n",
       "      <th></th>\n",
       "      <th>S.No</th>\n",
       "      <th>Left-Lateral-Ventricle</th>\n",
       "      <th>Left-Inf-Lat-Vent</th>\n",
       "      <th>Left-Cerebellum-White-Matter</th>\n",
       "      <th>Left-Cerebellum-Cortex</th>\n",
       "      <th>Left-Thalamus</th>\n",
       "      <th>Left-Caudate</th>\n",
       "      <th>Left-Putamen</th>\n",
       "      <th>Left-Pallidum</th>\n",
       "      <th>3rd-Ventricle</th>\n",
       "      <th>...</th>\n",
       "      <th>rh_supramarginal_thickness</th>\n",
       "      <th>rh_frontalpole_thickness</th>\n",
       "      <th>rh_temporalpole_thickness</th>\n",
       "      <th>rh_transversetemporal_thickness</th>\n",
       "      <th>rh_insula_thickness</th>\n",
       "      <th>rh_MeanThickness_thickness</th>\n",
       "      <th>BrainSegVolNotVent.2</th>\n",
       "      <th>eTIV.1</th>\n",
       "      <th>Age</th>\n",
       "      <th>dataset</th>\n",
       "    </tr>\n",
       "  </thead>\n",
       "  <tbody>\n",
       "    <tr>\n",
       "      <th>0</th>\n",
       "      <td>1</td>\n",
       "      <td>22916.9</td>\n",
       "      <td>982.7</td>\n",
       "      <td>15196.7</td>\n",
       "      <td>55796.4</td>\n",
       "      <td>6855.5</td>\n",
       "      <td>2956.4</td>\n",
       "      <td>4240.7</td>\n",
       "      <td>2223.9</td>\n",
       "      <td>2034.4</td>\n",
       "      <td>...</td>\n",
       "      <td>2.408</td>\n",
       "      <td>2.629</td>\n",
       "      <td>3.519</td>\n",
       "      <td>2.009</td>\n",
       "      <td>2.825</td>\n",
       "      <td>2.33635</td>\n",
       "      <td>1093846</td>\n",
       "      <td>1619602.965</td>\n",
       "      <td>85</td>\n",
       "      <td>1</td>\n",
       "    </tr>\n",
       "    <tr>\n",
       "      <th>1</th>\n",
       "      <td>2</td>\n",
       "      <td>22953.2</td>\n",
       "      <td>984.5</td>\n",
       "      <td>15289.7</td>\n",
       "      <td>55778.6</td>\n",
       "      <td>6835.1</td>\n",
       "      <td>3064.2</td>\n",
       "      <td>4498.6</td>\n",
       "      <td>2354.1</td>\n",
       "      <td>1927.1</td>\n",
       "      <td>...</td>\n",
       "      <td>2.417</td>\n",
       "      <td>2.640</td>\n",
       "      <td>3.488</td>\n",
       "      <td>2.111</td>\n",
       "      <td>2.720</td>\n",
       "      <td>2.34202</td>\n",
       "      <td>1099876</td>\n",
       "      <td>1624755.130</td>\n",
       "      <td>85</td>\n",
       "      <td>1</td>\n",
       "    </tr>\n",
       "    <tr>\n",
       "      <th>2</th>\n",
       "      <td>3</td>\n",
       "      <td>23320.4</td>\n",
       "      <td>1062.1</td>\n",
       "      <td>15382.1</td>\n",
       "      <td>55551.2</td>\n",
       "      <td>7566.0</td>\n",
       "      <td>3231.7</td>\n",
       "      <td>4456.2</td>\n",
       "      <td>1995.4</td>\n",
       "      <td>2064.7</td>\n",
       "      <td>...</td>\n",
       "      <td>2.374</td>\n",
       "      <td>2.601</td>\n",
       "      <td>3.342</td>\n",
       "      <td>2.146</td>\n",
       "      <td>2.684</td>\n",
       "      <td>2.31982</td>\n",
       "      <td>1097999</td>\n",
       "      <td>1622609.518</td>\n",
       "      <td>86</td>\n",
       "      <td>1</td>\n",
       "    </tr>\n",
       "    <tr>\n",
       "      <th>3</th>\n",
       "      <td>4</td>\n",
       "      <td>24360.0</td>\n",
       "      <td>1000.5</td>\n",
       "      <td>14805.4</td>\n",
       "      <td>54041.8</td>\n",
       "      <td>8004.6</td>\n",
       "      <td>3137.3</td>\n",
       "      <td>4262.2</td>\n",
       "      <td>1983.4</td>\n",
       "      <td>2017.7</td>\n",
       "      <td>...</td>\n",
       "      <td>2.366</td>\n",
       "      <td>2.639</td>\n",
       "      <td>3.361</td>\n",
       "      <td>2.056</td>\n",
       "      <td>2.700</td>\n",
       "      <td>2.29215</td>\n",
       "      <td>1070117</td>\n",
       "      <td>1583854.236</td>\n",
       "      <td>87</td>\n",
       "      <td>1</td>\n",
       "    </tr>\n",
       "    <tr>\n",
       "      <th>4</th>\n",
       "      <td>5</td>\n",
       "      <td>25769.4</td>\n",
       "      <td>1124.4</td>\n",
       "      <td>16331.1</td>\n",
       "      <td>54108.6</td>\n",
       "      <td>6677.4</td>\n",
       "      <td>2964.4</td>\n",
       "      <td>4204.6</td>\n",
       "      <td>2409.7</td>\n",
       "      <td>2251.8</td>\n",
       "      <td>...</td>\n",
       "      <td>2.381</td>\n",
       "      <td>2.555</td>\n",
       "      <td>3.450</td>\n",
       "      <td>2.052</td>\n",
       "      <td>2.574</td>\n",
       "      <td>2.30397</td>\n",
       "      <td>1075926</td>\n",
       "      <td>1617375.362</td>\n",
       "      <td>89</td>\n",
       "      <td>1</td>\n",
       "    </tr>\n",
       "    <tr>\n",
       "      <th>...</th>\n",
       "      <td>...</td>\n",
       "      <td>...</td>\n",
       "      <td>...</td>\n",
       "      <td>...</td>\n",
       "      <td>...</td>\n",
       "      <td>...</td>\n",
       "      <td>...</td>\n",
       "      <td>...</td>\n",
       "      <td>...</td>\n",
       "      <td>...</td>\n",
       "      <td>...</td>\n",
       "      <td>...</td>\n",
       "      <td>...</td>\n",
       "      <td>...</td>\n",
       "      <td>...</td>\n",
       "      <td>...</td>\n",
       "      <td>...</td>\n",
       "      <td>...</td>\n",
       "      <td>...</td>\n",
       "      <td>...</td>\n",
       "      <td>...</td>\n",
       "    </tr>\n",
       "    <tr>\n",
       "      <th>4221</th>\n",
       "      <td>4222</td>\n",
       "      <td>27065.6</td>\n",
       "      <td>532.4</td>\n",
       "      <td>12425.1</td>\n",
       "      <td>51042.9</td>\n",
       "      <td>6354.8</td>\n",
       "      <td>3822.6</td>\n",
       "      <td>4490.5</td>\n",
       "      <td>2019.4</td>\n",
       "      <td>1256.2</td>\n",
       "      <td>...</td>\n",
       "      <td>2.505</td>\n",
       "      <td>2.666</td>\n",
       "      <td>2.915</td>\n",
       "      <td>2.243</td>\n",
       "      <td>2.683</td>\n",
       "      <td>2.29264</td>\n",
       "      <td>1108782</td>\n",
       "      <td>1561822.106</td>\n",
       "      <td>79</td>\n",
       "      <td>9</td>\n",
       "    </tr>\n",
       "    <tr>\n",
       "      <th>4222</th>\n",
       "      <td>4223</td>\n",
       "      <td>28408.8</td>\n",
       "      <td>912.7</td>\n",
       "      <td>14024.8</td>\n",
       "      <td>43103.5</td>\n",
       "      <td>6060.7</td>\n",
       "      <td>3114.2</td>\n",
       "      <td>3731.0</td>\n",
       "      <td>1937.4</td>\n",
       "      <td>1669.9</td>\n",
       "      <td>...</td>\n",
       "      <td>2.385</td>\n",
       "      <td>3.008</td>\n",
       "      <td>3.572</td>\n",
       "      <td>2.040</td>\n",
       "      <td>2.866</td>\n",
       "      <td>2.30156</td>\n",
       "      <td>960586</td>\n",
       "      <td>1530179.480</td>\n",
       "      <td>79</td>\n",
       "      <td>9</td>\n",
       "    </tr>\n",
       "    <tr>\n",
       "      <th>4223</th>\n",
       "      <td>4224</td>\n",
       "      <td>34467.9</td>\n",
       "      <td>1659.6</td>\n",
       "      <td>12744.5</td>\n",
       "      <td>54924.8</td>\n",
       "      <td>6256.7</td>\n",
       "      <td>3573.4</td>\n",
       "      <td>3526.6</td>\n",
       "      <td>2189.9</td>\n",
       "      <td>3063.1</td>\n",
       "      <td>...</td>\n",
       "      <td>2.028</td>\n",
       "      <td>2.995</td>\n",
       "      <td>3.706</td>\n",
       "      <td>1.928</td>\n",
       "      <td>2.610</td>\n",
       "      <td>2.19622</td>\n",
       "      <td>1033357</td>\n",
       "      <td>1604323.353</td>\n",
       "      <td>84</td>\n",
       "      <td>9</td>\n",
       "    </tr>\n",
       "    <tr>\n",
       "      <th>4224</th>\n",
       "      <td>4225</td>\n",
       "      <td>31627.5</td>\n",
       "      <td>1334.4</td>\n",
       "      <td>15883.2</td>\n",
       "      <td>57148.2</td>\n",
       "      <td>6982.4</td>\n",
       "      <td>4475.8</td>\n",
       "      <td>4464.4</td>\n",
       "      <td>2317.8</td>\n",
       "      <td>3809.0</td>\n",
       "      <td>...</td>\n",
       "      <td>2.491</td>\n",
       "      <td>2.865</td>\n",
       "      <td>3.456</td>\n",
       "      <td>2.317</td>\n",
       "      <td>2.900</td>\n",
       "      <td>2.43580</td>\n",
       "      <td>1073339</td>\n",
       "      <td>1620891.799</td>\n",
       "      <td>80</td>\n",
       "      <td>9</td>\n",
       "    </tr>\n",
       "    <tr>\n",
       "      <th>4225</th>\n",
       "      <td>4226</td>\n",
       "      <td>14879.4</td>\n",
       "      <td>704.2</td>\n",
       "      <td>11346.6</td>\n",
       "      <td>50468.5</td>\n",
       "      <td>6935.4</td>\n",
       "      <td>3258.5</td>\n",
       "      <td>3751.5</td>\n",
       "      <td>2226.5</td>\n",
       "      <td>1898.4</td>\n",
       "      <td>...</td>\n",
       "      <td>2.474</td>\n",
       "      <td>3.150</td>\n",
       "      <td>3.691</td>\n",
       "      <td>2.337</td>\n",
       "      <td>2.787</td>\n",
       "      <td>2.43420</td>\n",
       "      <td>992086</td>\n",
       "      <td>1513076.040</td>\n",
       "      <td>86</td>\n",
       "      <td>9</td>\n",
       "    </tr>\n",
       "  </tbody>\n",
       "</table>\n",
       "<p>4226 rows × 141 columns</p>\n",
       "</div>"
      ],
      "text/plain": [
       "      S.No  Left-Lateral-Ventricle  Left-Inf-Lat-Vent  \\\n",
       "0        1                 22916.9              982.7   \n",
       "1        2                 22953.2              984.5   \n",
       "2        3                 23320.4             1062.1   \n",
       "3        4                 24360.0             1000.5   \n",
       "4        5                 25769.4             1124.4   \n",
       "...    ...                     ...                ...   \n",
       "4221  4222                 27065.6              532.4   \n",
       "4222  4223                 28408.8              912.7   \n",
       "4223  4224                 34467.9             1659.6   \n",
       "4224  4225                 31627.5             1334.4   \n",
       "4225  4226                 14879.4              704.2   \n",
       "\n",
       "      Left-Cerebellum-White-Matter  Left-Cerebellum-Cortex  Left-Thalamus  \\\n",
       "0                          15196.7                 55796.4         6855.5   \n",
       "1                          15289.7                 55778.6         6835.1   \n",
       "2                          15382.1                 55551.2         7566.0   \n",
       "3                          14805.4                 54041.8         8004.6   \n",
       "4                          16331.1                 54108.6         6677.4   \n",
       "...                            ...                     ...            ...   \n",
       "4221                       12425.1                 51042.9         6354.8   \n",
       "4222                       14024.8                 43103.5         6060.7   \n",
       "4223                       12744.5                 54924.8         6256.7   \n",
       "4224                       15883.2                 57148.2         6982.4   \n",
       "4225                       11346.6                 50468.5         6935.4   \n",
       "\n",
       "      Left-Caudate  Left-Putamen  Left-Pallidum  3rd-Ventricle  ...  \\\n",
       "0           2956.4        4240.7         2223.9         2034.4  ...   \n",
       "1           3064.2        4498.6         2354.1         1927.1  ...   \n",
       "2           3231.7        4456.2         1995.4         2064.7  ...   \n",
       "3           3137.3        4262.2         1983.4         2017.7  ...   \n",
       "4           2964.4        4204.6         2409.7         2251.8  ...   \n",
       "...            ...           ...            ...            ...  ...   \n",
       "4221        3822.6        4490.5         2019.4         1256.2  ...   \n",
       "4222        3114.2        3731.0         1937.4         1669.9  ...   \n",
       "4223        3573.4        3526.6         2189.9         3063.1  ...   \n",
       "4224        4475.8        4464.4         2317.8         3809.0  ...   \n",
       "4225        3258.5        3751.5         2226.5         1898.4  ...   \n",
       "\n",
       "      rh_supramarginal_thickness  rh_frontalpole_thickness  \\\n",
       "0                          2.408                     2.629   \n",
       "1                          2.417                     2.640   \n",
       "2                          2.374                     2.601   \n",
       "3                          2.366                     2.639   \n",
       "4                          2.381                     2.555   \n",
       "...                          ...                       ...   \n",
       "4221                       2.505                     2.666   \n",
       "4222                       2.385                     3.008   \n",
       "4223                       2.028                     2.995   \n",
       "4224                       2.491                     2.865   \n",
       "4225                       2.474                     3.150   \n",
       "\n",
       "      rh_temporalpole_thickness  rh_transversetemporal_thickness  \\\n",
       "0                         3.519                            2.009   \n",
       "1                         3.488                            2.111   \n",
       "2                         3.342                            2.146   \n",
       "3                         3.361                            2.056   \n",
       "4                         3.450                            2.052   \n",
       "...                         ...                              ...   \n",
       "4221                      2.915                            2.243   \n",
       "4222                      3.572                            2.040   \n",
       "4223                      3.706                            1.928   \n",
       "4224                      3.456                            2.317   \n",
       "4225                      3.691                            2.337   \n",
       "\n",
       "      rh_insula_thickness  rh_MeanThickness_thickness  BrainSegVolNotVent.2  \\\n",
       "0                   2.825                     2.33635               1093846   \n",
       "1                   2.720                     2.34202               1099876   \n",
       "2                   2.684                     2.31982               1097999   \n",
       "3                   2.700                     2.29215               1070117   \n",
       "4                   2.574                     2.30397               1075926   \n",
       "...                   ...                         ...                   ...   \n",
       "4221                2.683                     2.29264               1108782   \n",
       "4222                2.866                     2.30156                960586   \n",
       "4223                2.610                     2.19622               1033357   \n",
       "4224                2.900                     2.43580               1073339   \n",
       "4225                2.787                     2.43420                992086   \n",
       "\n",
       "           eTIV.1  Age  dataset  \n",
       "0     1619602.965   85        1  \n",
       "1     1624755.130   85        1  \n",
       "2     1622609.518   86        1  \n",
       "3     1583854.236   87        1  \n",
       "4     1617375.362   89        1  \n",
       "...           ...  ...      ...  \n",
       "4221  1561822.106   79        9  \n",
       "4222  1530179.480   79        9  \n",
       "4223  1604323.353   84        9  \n",
       "4224  1620891.799   80        9  \n",
       "4225  1513076.040   86        9  \n",
       "\n",
       "[4226 rows x 141 columns]"
      ]
     },
     "execution_count": 25,
     "metadata": {},
     "output_type": "execute_result"
    }
   ],
   "source": [
    "#Import the data set of breast cancer for our classification data set\n",
    "#create a directory and dinf the csv file\n",
    "directory = './Volumetric_features.csv'\n",
    "csv_file = pd.read_csv(directory)\n",
    "#Drop S.No\n",
    "csv_file.iloc[:,1:]\n",
    "\n",
    "#Print out the file within coloumns\n",
    "csv_file"
   ]
  },
  {
   "cell_type": "markdown",
   "id": "0e470d23",
   "metadata": {},
   "source": [
    "### Multiple Linear Regression Model\n",
    "\n",
    "https://www.analyticsvidhya.com/blog/2021/05/multiple-linear-regression-using-python-and-scikit-learn/\n"
   ]
  },
  {
   "cell_type": "code",
   "execution_count": 26,
   "id": "971b09dd",
   "metadata": {},
   "outputs": [],
   "source": [
    "x= csv_file.drop('dataset',axis=1)\n",
    "x = x.values"
   ]
  },
  {
   "cell_type": "code",
   "execution_count": 27,
   "id": "ab3d86f0",
   "metadata": {},
   "outputs": [],
   "source": [
    "y = csv_file.loc[:,['Age']]\n",
    "y = y.values"
   ]
  },
  {
   "cell_type": "code",
   "execution_count": 28,
   "id": "51b80837",
   "metadata": {},
   "outputs": [],
   "source": [
    "# importing train_test_split from sklearn\n",
    "from sklearn.model_selection import train_test_split\n",
    "# splitting the data\n",
    "x_train, x_test, y_train, y_test = train_test_split(x, y, test_size = 0.2, random_state = 42)"
   ]
  },
  {
   "cell_type": "code",
   "execution_count": 29,
   "id": "e293efb1",
   "metadata": {},
   "outputs": [
    {
     "data": {
      "text/plain": [
       "LinearRegression()"
      ]
     },
     "execution_count": 29,
     "metadata": {},
     "output_type": "execute_result"
    }
   ],
   "source": [
    "# importing module\n",
    "from sklearn.linear_model import LinearRegression\n",
    "from sklearn import linear_model\n",
    "# creating an object of LinearRegression class\n",
    "LR = linear_model.LinearRegression()\n",
    "\n",
    "# fitting the training data\n",
    "LR.fit(x_train,y_train)"
   ]
  },
  {
   "cell_type": "code",
   "execution_count": 30,
   "id": "303168d2",
   "metadata": {
    "scrolled": true
   },
   "outputs": [],
   "source": [
    "y_prediction =  LR.predict(x_test)\n",
    "#y_prediction"
   ]
  },
  {
   "cell_type": "code",
   "execution_count": 31,
   "id": "2f149b9e",
   "metadata": {},
   "outputs": [
    {
     "name": "stdout",
     "output_type": "stream",
     "text": [
      "r2 score is 1.0\n",
      "mean_sqrd_error is== 6.240652586928633e-25\n",
      "root_mean_squared error of is== 7.899780115249178e-13\n"
     ]
    }
   ],
   "source": [
    "# importing r2_score module\n",
    "from sklearn.metrics import r2_score\n",
    "from sklearn.metrics import mean_squared_error\n",
    "# predicting the accuracy score\n",
    "score=r2_score(y_test,y_prediction)\n",
    "print('r2 score is',score)\n",
    "print('mean_sqrd_error is==',mean_squared_error(y_test,y_prediction))\n",
    "print('root_mean_squared error of is==',np.sqrt(mean_squared_error(y_test,y_prediction)))"
   ]
  },
  {
   "cell_type": "markdown",
   "id": "4d596483",
   "metadata": {},
   "source": [
    "### Bagged Model \n",
    "\n",
    "https://machinelearningmastery.com/bagging-ensemble-with-python/"
   ]
  },
  {
   "cell_type": "code",
   "execution_count": 32,
   "id": "96c6c9da",
   "metadata": {},
   "outputs": [],
   "source": [
    "from sklearn.model_selection import KFold\n",
    "from sklearn.model_selection import cross_val_score\n",
    "from sklearn.ensemble import BaggingClassifier\n",
    "from sklearn.tree import DecisionTreeClassifier"
   ]
  },
  {
   "cell_type": "code",
   "execution_count": 33,
   "id": "6b82916a",
   "metadata": {},
   "outputs": [],
   "source": [
    "seed = 7\n",
    "kfold = KFold(n_splits = 10,)\n",
    "cart = DecisionTreeClassifier()"
   ]
  },
  {
   "cell_type": "code",
   "execution_count": 34,
   "id": "ddafc108",
   "metadata": {},
   "outputs": [],
   "source": [
    "num_trees = 150"
   ]
  },
  {
   "cell_type": "code",
   "execution_count": 35,
   "id": "95f78337",
   "metadata": {},
   "outputs": [],
   "source": [
    "model = BaggingClassifier(base_estimator = cart, n_estimators = num_trees, random_state = seed)"
   ]
  },
  {
   "cell_type": "code",
   "execution_count": 36,
   "id": "74917895",
   "metadata": {},
   "outputs": [],
   "source": [
    "results = cross_val_score(model, x, y.ravel(), cv=kfold)\n"
   ]
  },
  {
   "cell_type": "code",
   "execution_count": 37,
   "id": "99238076",
   "metadata": {},
   "outputs": [
    {
     "name": "stdout",
     "output_type": "stream",
     "text": [
      "0.9976359338061466\n"
     ]
    }
   ],
   "source": [
    "print(results.mean())"
   ]
  },
  {
   "cell_type": "code",
   "execution_count": 38,
   "id": "86acc5aa",
   "metadata": {},
   "outputs": [
    {
     "name": "stdout",
     "output_type": "stream",
     "text": [
      "mean_sqrd_error is== 6.240652586928633e-25\n",
      "root_mean_squared error of is== 7.899780115249178e-13\n"
     ]
    }
   ],
   "source": [
    "print('mean_sqrd_error is==',mean_squared_error(y_test,y_prediction))\n",
    "print('root_mean_squared error of is==',np.sqrt(mean_squared_error(y_test,y_prediction)))"
   ]
  },
  {
   "cell_type": "markdown",
   "id": "4ca42d69",
   "metadata": {},
   "source": [
    "### kNN Model\n",
    "\n",
    "https://scikit-learn.org/stable/modules/generated/sklearn.neighbors.KNeighborsRegressor.html"
   ]
  },
  {
   "cell_type": "code",
   "execution_count": 39,
   "id": "b44a1350",
   "metadata": {},
   "outputs": [],
   "source": [
    "import random\n",
    "import math\n",
    "import numpy as np\n",
    "import matplotlib.pyplot as plt\n",
    "from sklearn.metrics import mean_squared_error \n",
    "from sklearn.neighbors import KNeighborsRegressor"
   ]
  },
  {
   "cell_type": "code",
   "execution_count": 40,
   "id": "1f57938f",
   "metadata": {},
   "outputs": [
    {
     "name": "stdout",
     "output_type": "stream",
     "text": [
      "KNeighborsRegressor()\n"
     ]
    },
    {
     "data": {
      "text/plain": [
       "KNeighborsRegressor(n_jobs=1)"
      ]
     },
     "execution_count": 40,
     "metadata": {},
     "output_type": "execute_result"
    }
   ],
   "source": [
    "model = KNeighborsRegressor(n_neighbors=5)\n",
    "print(model)\n",
    "KNeighborsRegressor(algorithm='auto', leaf_size=30, metric='minkowski',\n",
    "          metric_params=None, n_jobs=1, n_neighbors=5, p=2,\n",
    "          weights='uniform') "
   ]
  },
  {
   "cell_type": "code",
   "execution_count": 41,
   "id": "003a2420",
   "metadata": {},
   "outputs": [
    {
     "data": {
      "text/plain": [
       "KNeighborsRegressor()"
      ]
     },
     "execution_count": 41,
     "metadata": {},
     "output_type": "execute_result"
    }
   ],
   "source": [
    "model.fit(x,y)"
   ]
  },
  {
   "cell_type": "code",
   "execution_count": 42,
   "id": "c09601e5",
   "metadata": {},
   "outputs": [],
   "source": [
    "pred_y = model.predict(x)"
   ]
  },
  {
   "cell_type": "code",
   "execution_count": 43,
   "id": "7cb1d95a",
   "metadata": {},
   "outputs": [
    {
     "name": "stdout",
     "output_type": "stream",
     "text": [
      "0.8025387812138441\n"
     ]
    }
   ],
   "source": [
    "score=model.score(x,y)\n",
    "print(score)"
   ]
  },
  {
   "cell_type": "code",
   "execution_count": 44,
   "id": "4367002d",
   "metadata": {},
   "outputs": [
    {
     "name": "stdout",
     "output_type": "stream",
     "text": [
      "Mean Squared Error: 79.47276857548509\n"
     ]
    }
   ],
   "source": [
    "mse =mean_squared_error(y, pred_y)\n",
    "print(\"Mean Squared Error:\",mse)"
   ]
  },
  {
   "cell_type": "code",
   "execution_count": 45,
   "id": "e9c8b4a7",
   "metadata": {},
   "outputs": [
    {
     "name": "stdout",
     "output_type": "stream",
     "text": [
      "Root Mean Squared Error: 8.914750056815114\n"
     ]
    }
   ],
   "source": [
    "rmse = math.sqrt(mse)\n",
    "print(\"Root Mean Squared Error:\", rmse)"
   ]
  }
 ],
 "metadata": {
  "kernelspec": {
   "display_name": "Python 3 (ipykernel)",
   "language": "python",
   "name": "python3"
  },
  "language_info": {
   "codemirror_mode": {
    "name": "ipython",
    "version": 3
   },
   "file_extension": ".py",
   "mimetype": "text/x-python",
   "name": "python",
   "nbconvert_exporter": "python",
   "pygments_lexer": "ipython3",
   "version": "3.9.7"
  }
 },
 "nbformat": 4,
 "nbformat_minor": 5
}
